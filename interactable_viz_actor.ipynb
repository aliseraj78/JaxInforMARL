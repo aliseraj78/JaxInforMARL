{
 "cells": [
  {
   "metadata": {
    "ExecuteTime": {
     "end_time": "2025-01-18T18:19:22.554645Z",
     "start_time": "2025-01-18T18:19:20.660566Z"
    }
   },
   "cell_type": "code",
   "source": [
    "import jax\n",
    "import jax.numpy as jnp\n",
    "\n",
    "from calculate_metric import get_stats_for_state\n",
    "from visualize_actor import get_state_traj"
   ],
   "id": "9b333d0451e7aadc",
   "outputs": [],
   "execution_count": 1
  },
  {
   "metadata": {
    "ExecuteTime": {
     "end_time": "2025-01-18T18:19:22.563233Z",
     "start_time": "2025-01-18T18:19:22.559668Z"
    }
   },
   "cell_type": "code",
   "source": [
    "jax\n",
    "jnp\n",
    "get_stats_for_state"
   ],
   "id": "ebd0b6085ce20d43",
   "outputs": [
    {
     "data": {
      "text/plain": [
       "<PjitFunction of <function get_stats_for_state at 0x109d7e290>>"
      ]
     },
     "execution_count": 2,
     "metadata": {},
     "output_type": "execute_result"
    }
   ],
   "execution_count": 2
  },
  {
   "cell_type": "code",
   "id": "initial_id",
   "metadata": {
    "collapsed": true,
    "ExecuteTime": {
     "end_time": "2025-01-18T18:19:29.936446Z",
     "start_time": "2025-01-18T18:19:22.628558Z"
    }
   },
   "source": [
    "artifact_version = \"421\"\n",
    "\n",
    "model_artifact_remote_name = (\n",
    "    f\"josssdan/JaxInforMARL/PPO_RNN_Runner_State:v{artifact_version}\"\n",
    ")\n",
    "\n",
    "traj_batch, config, env = get_state_traj(\n",
    "    model_artifact_remote_name, artifact_version, num_episodes=1\n",
    ")"
   ],
   "outputs": [
    {
     "name": "stdout",
     "output_type": "stream",
     "text": [
      "Config:\n",
      "{'derived_values': {'minibatch_size': 192,\n",
      "                    'num_actors': 3,\n",
      "                    'num_updates': 15625,\n",
      "                    'scaled_clip_eps': 0.2},\n",
      " 'env_config': {'env_cls_name': 'TargetMPEEnvironment',\n",
      "                'env_kwargs': {'agent_communication_type': None,\n",
      "                               'agent_control_noise_std': 0.0,\n",
      "                               'agent_max_speed': -1,\n",
      "                               'agent_visibility_radius': [0.25],\n",
      "                               'collision_reward_coefficient': -1,\n",
      "                               'distance_to_goal_reward_coefficient': 5,\n",
      "                               'entities_initial_coord_radius': [1],\n",
      "                               'entity_acceleration': 5,\n",
      "                               'max_steps': 100,\n",
      "                               'num_agents': 3,\n",
      "                               'one_time_death_reward': 5}},\n",
      " 'network_config': {'actor_num_hidden_linear_layer': 2,\n",
      "                    'critic_num_hidden_linear_layer': 2,\n",
      "                    'entity_type_embedding_dim': 4,\n",
      "                    'fc_dim_size': 64,\n",
      "                    'graph_attention_key_dim': 16,\n",
      "                    'graph_hidden_feature_dim': 16,\n",
      "                    'graph_num_linear_layer': 3,\n",
      "                    'gru_hidden_dim': 64,\n",
      "                    'num_graph_attn_layers': 2,\n",
      "                    'num_heads_per_attn_layer': 3},\n",
      " 'training_config': {'anneal_lr': True,\n",
      "                     'gamma': 0.99,\n",
      "                     'lr': 0.001,\n",
      "                     'num_envs': 1,\n",
      "                     'num_seeds': 2,\n",
      "                     'ppo_config': {'clip_eps': 0.2,\n",
      "                                    'entropy_coefficient': 0.01,\n",
      "                                    'gae_lambda': 0.95,\n",
      "                                    'is_clip_eps_per_env': False,\n",
      "                                    'max_grad_norm': 10,\n",
      "                                    'num_minibatches_actors': 4,\n",
      "                                    'num_steps_per_update': 256,\n",
      "                                    'update_epochs': 4,\n",
      "                                    'value_coefficient': 0.5},\n",
      "                     'seed': 65,\n",
      "                     'total_timesteps': 4000000.0},\n",
      " 'wandb_config': {'checkpoint_model_every_update_steps': 100.0,\n",
      "                  'entity': 'josssdan',\n",
      "                  'mode': 'online',\n",
      "                  'project': 'JaxInforMARL',\n",
      "                  'save_model': True}}\n"
     ]
    },
    {
     "name": "stderr",
     "output_type": "stream",
     "text": [
      "/Users/josdan/miniconda3/envs/InforMARLJAX/lib/python3.10/site-packages/jax/_src/ops/scatter.py:92: FutureWarning: scatter inputs have incompatible types: cannot safely cast value from dtype=int32 to dtype=bool with jax_numpy_dtype_promotion='standard'. In future JAX releases this will result in an error.\n",
      "  warnings.warn(\n"
     ]
    }
   ],
   "execution_count": 3
  },
  {
   "metadata": {
    "ExecuteTime": {
     "end_time": "2025-01-18T18:19:30.070645Z",
     "start_time": "2025-01-18T18:19:29.975067Z"
    }
   },
   "cell_type": "code",
   "source": [
    "global_done = traj_batch.global_done[:, 0]\n",
    "\n",
    "last_step_in_one_episode = jnp.argmax(global_done)\n",
    "global_done = global_done[:last_step_in_one_episode + 1]\n"
   ],
   "id": "65cf733d5c515288",
   "outputs": [],
   "execution_count": 4
  },
  {
   "metadata": {
    "ExecuteTime": {
     "end_time": "2025-01-18T18:19:30.532318Z",
     "start_time": "2025-01-18T18:19:30.096911Z"
    }
   },
   "cell_type": "code",
   "source": "traj = jax.tree.map(lambda x: x[:last_step_in_one_episode + 1], traj_batch)",
   "id": "a45c1975c2afddff",
   "outputs": [],
   "execution_count": 5
  },
  {
   "metadata": {
    "ExecuteTime": {
     "end_time": "2025-01-18T18:19:30.578894Z",
     "start_time": "2025-01-18T18:19:30.576301Z"
    }
   },
   "cell_type": "code",
   "source": "global_done.shape",
   "id": "f5d85f75f8b6995b",
   "outputs": [
    {
     "data": {
      "text/plain": [
       "(86,)"
      ]
     },
     "execution_count": 6,
     "metadata": {},
     "output_type": "execute_result"
    }
   ],
   "execution_count": 6
  },
  {
   "metadata": {
    "ExecuteTime": {
     "end_time": "2025-01-18T18:19:31.994091Z",
     "start_time": "2025-01-18T18:19:31.988889Z"
    }
   },
   "cell_type": "code",
   "source": "jax.tree.map(lambda x: x.shape, traj)",
   "id": "9da12a915fcaf9c0",
   "outputs": [
    {
     "data": {
      "text/plain": [
       "TransitionWithEnvState(global_done=(86, 3), done=(86, 3), action=(86, 3), value=(86, 3), reward=(86, 3), log_prob=(86, 3), obs=(86, 3, 6), graph=GraphsTupleWithAgentIndex(nodes=(86, 3, 6, 7), edges=(86, 3, 21, 1), receivers=(86, 3, 21), senders=(86, 3, 21), globals=None, n_node=(86, 3), n_edge=(86, 3), agent_indices=(86, 3)), world_state=(86, 3, 18), info={'returned_episode': (86, 3), 'returned_episode_lengths': (86, 3), 'returned_episode_returns': (86, 3)}, env_state=LogEnvState(env_state=MPEState(dones=(86, 3, 3), step=(86, 3), entity_positions=(86, 3, 6, 2), entity_velocities=(86, 3, 6, 2), did_agent_die_this_time_step=(86, 3, 3), agent_communication_message=(86, 3, 0), agent_visibility_radius=(86, 3, 3)), episode_returns=(86, 3, 3), episode_lengths=(86, 3, 3), returned_episode_returns=(86, 3, 3), returned_episode_lengths=(86, 3, 3)))"
      ]
     },
     "execution_count": 8,
     "metadata": {},
     "output_type": "execute_result"
    }
   ],
   "execution_count": 8
  },
  {
   "metadata": {
    "ExecuteTime": {
     "end_time": "2025-01-18T18:39:58.364998Z",
     "start_time": "2025-01-18T18:39:58.044119Z"
    }
   },
   "cell_type": "code",
   "source": "",
   "id": "12f708a8f49f8191",
   "outputs": [
    {
     "ename": "ValueError",
     "evalue": "too many values to unpack (expected 2)",
     "output_type": "error",
     "traceback": [
      "\u001B[0;31m---------------------------------------------------------------------------\u001B[0m",
      "\u001B[0;31mValueError\u001B[0m                                Traceback (most recent call last)",
      "Cell \u001B[0;32mIn[9], line 3\u001B[0m\n\u001B[1;32m      1\u001B[0m x \u001B[38;5;241m=\u001B[39m (\u001B[38;5;241m1\u001B[39m,\u001B[38;5;241m2\u001B[39m,\u001B[38;5;241m3\u001B[39m,\u001B[38;5;241m4\u001B[39m,)\n\u001B[0;32m----> 3\u001B[0m a,b \u001B[38;5;241m=\u001B[39m x\n\u001B[1;32m      4\u001B[0m \u001B[38;5;28mprint\u001B[39m(a,b)\n",
      "\u001B[0;31mValueError\u001B[0m: too many values to unpack (expected 2)"
     ]
    }
   ],
   "execution_count": 9
  },
  {
   "metadata": {},
   "cell_type": "code",
   "outputs": [],
   "execution_count": null,
   "source": "",
   "id": "6960d53fa345676f"
  }
 ],
 "metadata": {
  "kernelspec": {
   "display_name": "Python 3",
   "language": "python",
   "name": "python3"
  },
  "language_info": {
   "codemirror_mode": {
    "name": "ipython",
    "version": 2
   },
   "file_extension": ".py",
   "mimetype": "text/x-python",
   "name": "python",
   "nbconvert_exporter": "python",
   "pygments_lexer": "ipython2",
   "version": "2.7.6"
  }
 },
 "nbformat": 4,
 "nbformat_minor": 5
}
