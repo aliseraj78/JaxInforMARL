{
  "cells": [
    {
      "cell_type": "code",
      "execution_count": 1,
      "metadata": {
        "id": "AXT-RTm1ZlQL",
        "colab": {
          "base_uri": "https://localhost:8080/"
        },
        "outputId": "877929c1-2389-46e7-cffa-45ac52113105"
      },
      "outputs": [
        {
          "output_type": "stream",
          "name": "stdout",
          "text": [
            "Cloning into 'JaxInforMARL'...\n",
            "remote: Enumerating objects: 277, done.\u001b[K\n",
            "remote: Counting objects: 100% (277/277), done.\u001b[K\n",
            "remote: Compressing objects: 100% (165/165), done.\u001b[K\n",
            "remote: Total 277 (delta 151), reused 207 (delta 82), pack-reused 0 (from 0)\u001b[K\n",
            "Receiving objects: 100% (277/277), 72.00 KiB | 641.00 KiB/s, done.\n",
            "Resolving deltas: 100% (151/151), done.\n"
          ]
        }
      ],
      "source": [
        "!git clone https://github.com/jselvaraaj/JaxInforMARL.git"
      ]
    },
    {
      "cell_type": "code",
      "execution_count": 2,
      "metadata": {
        "colab": {
          "base_uri": "https://localhost:8080/"
        },
        "id": "9n7WU18Tgpat",
        "outputId": "0c13bc97-0510-4b90-91d2-e04f257903e8"
      },
      "outputs": [
        {
          "output_type": "stream",
          "name": "stdout",
          "text": [
            "/content/JaxInforMARL\n"
          ]
        }
      ],
      "source": [
        "%load_ext autoreload\n",
        "%autoreload 2\n",
        "\n",
        "%cd JaxInforMARL\n",
        "\n",
        "import sys\n",
        "sys.path.append(\"/content/JaxInforMARL/\")"
      ]
    },
    {
      "cell_type": "code",
      "execution_count": null,
      "metadata": {
        "id": "my92RvJ6ZjCY"
      },
      "outputs": [],
      "source": [
        "!pip install -r requirements_jax_cuda.txt"
      ]
    },
    {
      "cell_type": "code",
      "execution_count": 4,
      "metadata": {
        "id": "2tzjAv7mgILf",
        "colab": {
          "base_uri": "https://localhost:8080/"
        },
        "outputId": "67e67618-80da-48de-bafc-538c4554de41"
      },
      "outputs": [
        {
          "output_type": "stream",
          "name": "stdout",
          "text": [
            "Requirement already satisfied: jax in /usr/local/lib/python3.10/dist-packages (from -r requirements.txt (line 1)) (0.4.33)\n",
            "Requirement already satisfied: jaxlib<=0.4.33,>=0.4.33 in /usr/local/lib/python3.10/dist-packages (from jax->-r requirements.txt (line 1)) (0.4.33)\n",
            "Requirement already satisfied: ml-dtypes>=0.2.0 in /usr/local/lib/python3.10/dist-packages (from jax->-r requirements.txt (line 1)) (0.4.1)\n",
            "Requirement already satisfied: numpy>=1.24 in /usr/local/lib/python3.10/dist-packages (from jax->-r requirements.txt (line 1)) (1.26.4)\n",
            "Requirement already satisfied: opt-einsum in /usr/local/lib/python3.10/dist-packages (from jax->-r requirements.txt (line 1)) (3.4.0)\n",
            "Requirement already satisfied: scipy>=1.10 in /usr/local/lib/python3.10/dist-packages (from jax->-r requirements.txt (line 1)) (1.13.1)\n"
          ]
        }
      ],
      "source": [
        "!pip install -r requirements.txt"
      ]
    },
    {
      "cell_type": "code",
      "execution_count": 5,
      "metadata": {
        "id": "KRrcsijYZ1r8",
        "colab": {
          "base_uri": "https://localhost:8080/"
        },
        "outputId": "f27c47b3-fd57-4647-d5c1-661e66bfe65a"
      },
      "outputs": [
        {
          "output_type": "stream",
          "name": "stdout",
          "text": [
            "\u001b[34m\u001b[1mwandb\u001b[0m: Logging into wandb.ai. (Learn how to deploy a W&B server locally: https://wandb.me/wandb-server)\n",
            "\u001b[34m\u001b[1mwandb\u001b[0m: You can find your API key in your browser here: https://wandb.ai/authorize\n",
            "\u001b[34m\u001b[1mwandb\u001b[0m: Paste an API key from your profile and hit enter, or press ctrl+c to quit: \n",
            "\u001b[34m\u001b[1mwandb\u001b[0m: Appending key for api.wandb.ai to your netrc file: /root/.netrc\n"
          ]
        }
      ],
      "source": [
        "!wandb login"
      ]
    },
    {
      "cell_type": "markdown",
      "source": [
        "Now edit the config in JaxInforMARL/config/mappo_config.py\n",
        "\n",
        "You have you restart the runtime before running the next cell for changes in the config values to be reflected since the config object is a flax data class which is immutable and doesn't seem to work with `%load_ext autoreload %autoreload 2`"
      ],
      "metadata": {
        "id": "9_H8Kw4YmEl5"
      }
    },
    {
      "cell_type": "code",
      "execution_count": null,
      "metadata": {
        "id": "p_8f8YlyaJl_"
      },
      "outputs": [],
      "source": [
        "%run ./algorithm/marl_ppo.py"
      ]
    },
    {
      "cell_type": "code",
      "source": [],
      "metadata": {
        "id": "-1NUJ5zga4Wr"
      },
      "execution_count": null,
      "outputs": []
    }
  ],
  "metadata": {
    "accelerator": "GPU",
    "colab": {
      "gpuType": "T4",
      "provenance": []
    },
    "kernelspec": {
      "display_name": "Python 3",
      "name": "python3"
    },
    "language_info": {
      "name": "python"
    }
  },
  "nbformat": 4,
  "nbformat_minor": 0
}