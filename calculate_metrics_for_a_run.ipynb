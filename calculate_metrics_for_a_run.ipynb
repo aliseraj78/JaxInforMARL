{
 "cells": [
  {
   "cell_type": "code",
   "id": "a03d32b1ca9a396f",
   "metadata": {
    "ExecuteTime": {
     "end_time": "2025-01-30T04:23:16.880557Z",
     "start_time": "2025-01-30T04:23:16.855690Z"
    }
   },
   "source": [
    "%load_ext autoreload\n",
    "%autoreload 2"
   ],
   "outputs": [
    {
     "name": "stdout",
     "output_type": "stream",
     "text": [
      "The autoreload extension is already loaded. To reload it, use:\n",
      "  %reload_ext autoreload\n"
     ]
    }
   ],
   "execution_count": 19
  },
  {
   "cell_type": "code",
   "id": "8b024d1e9cfcad0",
   "metadata": {
    "ExecuteTime": {
     "end_time": "2025-01-30T04:23:16.919714Z",
     "start_time": "2025-01-30T04:23:16.898330Z"
    }
   },
   "source": [
    "from functools import partial\n",
    "\n",
    "import jax\n",
    "import jax.numpy as jnp\n",
    "\n",
    "from calculate_metric import get_stats_for_state\n",
    "from visualize_actor import get_state_traj\n"
   ],
   "outputs": [],
   "execution_count": 20
  },
  {
   "cell_type": "code",
   "id": "initial_id",
   "metadata": {
    "ExecuteTime": {
     "end_time": "2025-01-30T04:23:21.727748Z",
     "start_time": "2025-01-30T04:23:16.934425Z"
    }
   },
   "source": [
    "artifact_version = \"510\"\n",
    "num_episodes = 100\n",
    "model_artifact_remote_name = (\n",
    "    f\"josssdan/JaxInforMARL/PPO_RNN_Runner_State:v{artifact_version}\"\n",
    ")\n",
    "\n",
    "traj_batch, config, env = get_state_traj(model_artifact_remote_name, artifact_version, num_episodes=num_episodes,\n",
    "                                         store_action_field=False)"
   ],
   "outputs": [
    {
     "name": "stderr",
     "output_type": "stream",
     "text": [
      "\u001B[34m\u001B[1mwandb\u001B[0m: Using wandb-core as the SDK backend.  Please refer to https://wandb.me/wandb-core for more information.\n",
      "\u001B[34m\u001B[1mwandb\u001B[0m:   12 of 12 files downloaded.  \n"
     ]
    },
    {
     "name": "stdout",
     "output_type": "stream",
     "text": [
      "Config:\n",
      "{'derived_values': {'minibatch_size': 19200,\n",
      "                    'num_actors': 300,\n",
      "                    'num_updates': 39,\n",
      "                    'scaled_clip_eps': 0.2},\n",
      " 'env_config': {'env_cls_name': 'StackedTargetMPEEnvironment',\n",
      "                'env_kwargs': {'add_self_edges_to_nodes': True,\n",
      "                               'agent_communication_type': None,\n",
      "                               'agent_control_noise_std': 0.0,\n",
      "                               'agent_max_speed': -1,\n",
      "                               'agent_previous_obs_stack_size': 4,\n",
      "                               'agent_visibility_radius': [0.25],\n",
      "                               'collision_reward_coefficient': -1,\n",
      "                               'distance_to_goal_reward_coefficient': 10,\n",
      "                               'entities_initial_coord_radius': [1],\n",
      "                               'entity_acceleration': 5,\n",
      "                               'max_steps': 100,\n",
      "                               'num_agents': 3,\n",
      "                               'one_time_death_reward': 5}},\n",
      " 'network_config': {'actor_num_hidden_linear_layer': 2,\n",
      "                    'critic_num_hidden_linear_layer': 2,\n",
      "                    'entity_type_embedding_dim': 4,\n",
      "                    'fc_dim_size': 64,\n",
      "                    'graph_attention_key_dim': 16,\n",
      "                    'graph_hidden_feature_dim': 16,\n",
      "                    'graph_num_linear_layer': 2,\n",
      "                    'gru_hidden_dim': 64,\n",
      "                    'num_graph_attn_layers': 2,\n",
      "                    'num_heads_per_attn_layer': 3},\n",
      " 'training_config': {'anneal_lr': True,\n",
      "                     'gamma': 0.99,\n",
      "                     'lr': 0.0005,\n",
      "                     'num_envs': 100,\n",
      "                     'num_seeds': 2,\n",
      "                     'ppo_config': {'clip_eps': 0.2,\n",
      "                                    'entropy_coefficient': 0.01,\n",
      "                                    'gae_lambda': 0.95,\n",
      "                                    'is_clip_eps_per_env': False,\n",
      "                                    'max_grad_norm': 10,\n",
      "                                    'num_minibatches_actors': 4,\n",
      "                                    'num_steps_per_update': 256,\n",
      "                                    'update_epochs': 4,\n",
      "                                    'value_coefficient': 0.5},\n",
      "                     'seed': 65,\n",
      "                     'total_timesteps': 1000000.0},\n",
      " 'wandb_config': {'checkpoint_model_every_update_steps': 100.0,\n",
      "                  'entity': 'josssdan',\n",
      "                  'mode': 'online',\n",
      "                  'project': 'JaxInforMARL',\n",
      "                  'save_model': True}}\n"
     ]
    }
   ],
   "execution_count": 21
  },
  {
   "cell_type": "code",
   "id": "243953c079fafd50",
   "metadata": {
    "ExecuteTime": {
     "end_time": "2025-01-30T04:23:21.779657Z",
     "start_time": "2025-01-30T04:23:21.757253Z"
    }
   },
   "source": [
    "num_envs = config.training_config.num_envs\n",
    "num_agents = config.env_config.env_kwargs.num_agents\n",
    "num_steps = config.env_config.env_kwargs.max_steps"
   ],
   "outputs": [],
   "execution_count": 22
  },
  {
   "cell_type": "code",
   "id": "be320bcf7a38ca12",
   "metadata": {
    "ExecuteTime": {
     "end_time": "2025-01-30T04:23:22.756222Z",
     "start_time": "2025-01-30T04:23:21.793984Z"
    }
   },
   "source": [
    "# reshaping so that the axis becomes num_env, num_steps, num_agents...\n",
    "\n",
    "traj_batch = jax.tree.map(lambda x: x.reshape(num_steps, num_agents, num_envs, *x.shape[2:]), traj_batch)\n",
    "traj_batch = jax.tree.map(\n",
    "    lambda x: jnp.swapaxes(x, 1, 2),\n",
    "    traj_batch,\n",
    ")\n",
    "traj_batch = jax.tree.map(\n",
    "    lambda x: jnp.swapaxes(x, 0, 1),\n",
    "    traj_batch,\n",
    ")\n"
   ],
   "outputs": [],
   "execution_count": 23
  },
  {
   "cell_type": "code",
   "id": "c14560665810f9dc",
   "metadata": {
    "ExecuteTime": {
     "end_time": "2025-01-30T04:23:22.793243Z",
     "start_time": "2025-01-30T04:23:22.771310Z"
    }
   },
   "source": [
    "jax.tree.map(lambda x: x.shape, traj_batch)"
   ],
   "outputs": [
    {
     "data": {
      "text/plain": [
       "TransitionForVisualization(global_done=(100, 100, 3), done=(100, 100, 3), action=(100, 100, 3), value=(100, 100, 3), reward=(100, 100, 3), log_prob=(100, 100, 3), obs=(100, 100, 3, 24), graph=GraphsTupleWithAgentIndex(nodes=(100, 100, 3, 6, 28), edges=(100, 100, 3, 21, 1), receivers=(100, 100, 3, 21), senders=(100, 100, 3, 21), globals=None, n_node=(100, 100, 3), n_edge=(100, 100, 3), agent_indices=(100, 100, 3)), world_state=(100, 100, 3, 72), info={'returned_episode': (100, 100, 3), 'returned_episode_lengths': (100, 100, 3), 'returned_episode_returns': (100, 100, 3)}, env_state=LogEnvState(env_state=MPEStateWithBuffer(dones=(100, 100, 3, 3), step=(100, 100, 3), entity_positions=(100, 100, 3, 6, 2), entity_velocities=(100, 100, 3, 6, 2), did_agent_die_this_time_step=(100, 100, 3, 3), agent_communication_message=(100, 100, 3, 0), agent_visibility_radius=(100, 100, 3, 3), obs_buffer={'agent_0': (100, 100, 3, 6, 4), 'agent_1': (100, 100, 3, 6, 4), 'agent_2': (100, 100, 3, 6, 4)}, nodes_buffer={'agent_0': (100, 100, 3, 6, 7, 4), 'agent_1': (100, 100, 3, 6, 7, 4), 'agent_2': (100, 100, 3, 6, 7, 4)}), episode_returns=(100, 100, 3, 3), episode_lengths=(100, 100, 3, 3), returned_episode_returns=(100, 100, 3, 3), returned_episode_lengths=(100, 100, 3, 3)))"
      ]
     },
     "execution_count": 24,
     "metadata": {},
     "output_type": "execute_result"
    }
   ],
   "execution_count": 24
  },
  {
   "cell_type": "code",
   "id": "5825d20a7ead14fa",
   "metadata": {
    "ExecuteTime": {
     "end_time": "2025-01-30T04:23:22.827907Z",
     "start_time": "2025-01-30T04:23:22.807025Z"
    }
   },
   "source": [
    "# summing across all steps in episode and across all agents\n",
    "total_reward = jnp.sum(traj_batch.reward, axis=(1, 2))\n",
    "avg_reward_per_episode = jnp.average(total_reward).item()"
   ],
   "outputs": [],
   "execution_count": 25
  },
  {
   "cell_type": "code",
   "id": "e4dbf6617c2c421c",
   "metadata": {
    "ExecuteTime": {
     "end_time": "2025-01-30T04:23:22.862509Z",
     "start_time": "2025-01-30T04:23:22.841696Z"
    }
   },
   "source": [
    "avg_reward_per_episode"
   ],
   "outputs": [
    {
     "data": {
      "text/plain": [
       "-4764.515625"
      ]
     },
     "execution_count": 26,
     "metadata": {},
     "output_type": "execute_result"
    }
   ],
   "execution_count": 26
  },
  {
   "cell_type": "code",
   "id": "a86b2b58613252a6",
   "metadata": {
    "ExecuteTime": {
     "end_time": "2025-01-30T04:23:22.901758Z",
     "start_time": "2025-01-30T04:23:22.877755Z"
    }
   },
   "source": [
    "done = jnp.swapaxes(traj_batch.done, 1, 2)  # so that it becomes num_env, num_agents, num_steps\n",
    "avg_goal_reach_time_in_episode_fraction = (jnp.argmax(done, axis=-1) + 1) / num_steps\n",
    "agents_that_didnt_reach_goal = jnp.all(~done, axis=-1)\n",
    "avg_goal_reach_time_in_episode_fraction = avg_goal_reach_time_in_episode_fraction.at[agents_that_didnt_reach_goal].set(\n",
    "    1)\n",
    "avg_goal_reach_time_in_episode_fraction = jnp.average(avg_goal_reach_time_in_episode_fraction).item()"
   ],
   "outputs": [],
   "execution_count": 27
  },
  {
   "cell_type": "code",
   "id": "59382adea20bab0",
   "metadata": {
    "ExecuteTime": {
     "end_time": "2025-01-30T04:23:22.938133Z",
     "start_time": "2025-01-30T04:23:22.916343Z"
    }
   },
   "source": [
    "avg_goal_reach_time_in_episode_fraction"
   ],
   "outputs": [
    {
     "data": {
      "text/plain": [
       "0.12046666443347931"
      ]
     },
     "execution_count": 28,
     "metadata": {},
     "output_type": "execute_result"
    }
   ],
   "execution_count": 28
  },
  {
   "cell_type": "code",
   "id": "ec21d308c41dda7",
   "metadata": {
    "ExecuteTime": {
     "end_time": "2025-01-30T04:23:22.974203Z",
     "start_time": "2025-01-30T04:23:22.952151Z"
    }
   },
   "source": [
    "reached_goal = jnp.any(done, axis=-1)\n",
    "all_agents_reached_goal = jnp.all(reached_goal, axis=-1)\n",
    "\n",
    "episode_percent_all_agents_reached_goals = jnp.average(all_agents_reached_goal) * 100\n",
    "episode_percent_all_agents_reached_goals = episode_percent_all_agents_reached_goals.item()"
   ],
   "outputs": [],
   "execution_count": 29
  },
  {
   "cell_type": "code",
   "id": "e5055b7e305080ad",
   "metadata": {
    "ExecuteTime": {
     "end_time": "2025-01-30T04:23:23.012550Z",
     "start_time": "2025-01-30T04:23:22.989333Z"
    }
   },
   "source": [
    "episode_percent_all_agents_reached_goals"
   ],
   "outputs": [
    {
     "data": {
      "text/plain": [
       "100.0"
      ]
     },
     "execution_count": 30,
     "metadata": {},
     "output_type": "execute_result"
    }
   ],
   "execution_count": 30
  },
  {
   "cell_type": "code",
   "id": "9ce79b5e0ff9a12",
   "metadata": {
    "ExecuteTime": {
     "end_time": "2025-01-30T04:23:23.050931Z",
     "start_time": "2025-01-30T04:23:23.027390Z"
    }
   },
   "source": [
    "@partial(jax.jit, static_argnums=(0,))\n",
    "def compute_stats_for_all_episode(env, state):\n",
    "    compute_stats_for_every_step = jax.vmap(get_stats_for_state, in_axes=(None, 0))\n",
    "    compute_all_stats = jax.vmap(compute_stats_for_every_step, in_axes=(None, 0))\n",
    "    return compute_all_stats(env, state)"
   ],
   "outputs": [],
   "execution_count": 31
  },
  {
   "cell_type": "code",
   "id": "d73db91942908241",
   "metadata": {
    "ExecuteTime": {
     "end_time": "2025-01-30T04:23:23.163926Z",
     "start_time": "2025-01-30T04:23:23.064070Z"
    }
   },
   "source": [
    "env_state = traj_batch.env_state.env_state\n",
    "env_state = jax.tree.map(lambda x: x[:, :, 0],\n",
    "                         env_state)  # take state from one agent since it will be the same for all agents"
   ],
   "outputs": [],
   "execution_count": 32
  },
  {
   "cell_type": "code",
   "id": "8463dc1c85054829",
   "metadata": {
    "ExecuteTime": {
     "end_time": "2025-01-30T04:23:23.262408Z",
     "start_time": "2025-01-30T04:23:23.179642Z"
    }
   },
   "source": [
    "num_collisions, num_agent_died = compute_stats_for_all_episode(env, env_state)"
   ],
   "outputs": [],
   "execution_count": 33
  },
  {
   "cell_type": "code",
   "id": "57a3ae75722ef040",
   "metadata": {
    "ExecuteTime": {
     "end_time": "2025-01-30T04:23:23.296064Z",
     "start_time": "2025-01-30T04:23:23.276270Z"
    }
   },
   "source": [
    "avg_num_collision_across_all_episodes = jnp.average(num_collisions).item()\n",
    "avg_num_deaths_across_all_episodes = jnp.average(num_agent_died).item()"
   ],
   "outputs": [],
   "execution_count": 34
  },
  {
   "cell_type": "code",
   "id": "224b5df8a8442adc",
   "metadata": {
    "ExecuteTime": {
     "end_time": "2025-01-30T04:23:23.332126Z",
     "start_time": "2025-01-30T04:23:23.309348Z"
    }
   },
   "source": [
    "avg_reward_per_episode, avg_goal_reach_time_in_episode_fraction, f\"{episode_percent_all_agents_reached_goals} %\", avg_num_collision_across_all_episodes"
   ],
   "outputs": [
    {
     "data": {
      "text/plain": [
       "(-4764.515625, 0.12046666443347931, '100.0 %', 0.08784999698400497)"
      ]
     },
     "execution_count": 35,
     "metadata": {},
     "output_type": "execute_result"
    }
   ],
   "execution_count": 35
  },
  {
   "cell_type": "code",
   "id": "a246ec7702a46aa5",
   "metadata": {
    "ExecuteTime": {
     "end_time": "2025-01-30T04:23:23.384016Z",
     "start_time": "2025-01-30T04:23:23.360765Z"
    }
   },
   "source": [
    "(-4745.63916015625, 0.11216667294502258, '100.0 %', 0.09730000048875809)"
   ],
   "outputs": [
    {
     "data": {
      "text/plain": [
       "(-4745.63916015625, 0.11216667294502258, '100.0 %', 0.09730000048875809)"
      ]
     },
     "execution_count": 36,
     "metadata": {},
     "output_type": "execute_result"
    }
   ],
   "execution_count": 36
  }
 ],
 "metadata": {
  "kernelspec": {
   "display_name": "InforMARLJAX",
   "language": "python",
   "name": "python3"
  },
  "language_info": {
   "codemirror_mode": {
    "name": "ipython",
    "version": 3
   },
   "file_extension": ".py",
   "mimetype": "text/x-python",
   "name": "python",
   "nbconvert_exporter": "python",
   "pygments_lexer": "ipython3",
   "version": "3.10.16"
  }
 },
 "nbformat": 4,
 "nbformat_minor": 5
}
